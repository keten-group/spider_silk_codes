{
 "cells": [
  {
   "cell_type": "code",
   "execution_count": 10,
   "metadata": {},
   "outputs": [],
   "source": [
    "import torch\n",
    "import numpy as np\n",
    "import math\n",
    "from torch.utils.data import Dataset, DataLoader\n",
    "from torch.autograd import Variable\n",
    "from sklearn.model_selection import train_test_split\n",
    "import torch.nn as nn\n",
    "import matplotlib.pyplot as plt\n",
    "from sklearn import preprocessing\n",
    "from sklearn.metrics import r2_score\n",
    "import random\n",
    "import matplotlib as mpl\n",
    "import os\n",
    "import gc\n",
    "import pandas as pd\n",
    "import csv\n",
    "from numpy import *\n",
    "from torch.utils.tensorboard import SummaryWriter\n",
    "from datetime import date\n",
    "import builtins\n",
    "# mpl.rcParams['figure.dpi'] = 180"
   ]
  },
  {
   "cell_type": "code",
   "execution_count": 11,
   "metadata": {},
   "outputs": [
    {
     "name": "stdout",
     "output_type": "stream",
     "text": [
      "Input features: (221, 1398)\n",
      "output: (221, 1)\n"
     ]
    }
   ],
   "source": [
    "features = np.load('./strain_break_features.npy', allow_pickle=True)\n",
    "features = features[:,0:features.shape[1]]\n",
    "output_properties = np.load('./strain_break_output.npy', allow_pickle=True)\n",
    "output_properties = output_properties.reshape((-1,1))\n",
    "\n",
    "print('Input features:', features.shape)\n",
    "print('output:', output_properties.shape)"
   ]
  },
  {
   "cell_type": "code",
   "execution_count": 12,
   "metadata": {},
   "outputs": [
    {
     "name": "stdout",
     "output_type": "stream",
     "text": [
      "input: (203, 1398)\n",
      "Output shape (203, 1)\n"
     ]
    }
   ],
   "source": [
    "## output data\n",
    "is_available = (np.isnan(output_properties[:,0])==False)\n",
    "index = np.where(is_available== True)\n",
    "output_y = output_properties[index,0]\n",
    "output_y = output_y.T\n",
    "input = features[index,:][0]\n",
    "\n",
    "print('input:', input.shape)\n",
    "print('Output shape', output_y.shape)"
   ]
  },
  {
   "cell_type": "code",
   "execution_count": 13,
   "metadata": {},
   "outputs": [],
   "source": [
    "## Split the train and test\n",
    "x_test = np.load('./x_test_strain.npy', allow_pickle=True)\n",
    "y_test = x_test\n",
    "n_samples_test = np.shape(x_test)[0]\n"
   ]
  },
  {
   "cell_type": "code",
   "execution_count": 14,
   "metadata": {},
   "outputs": [],
   "source": [
    "## Dataloader\n",
    "batch_size = 32\n",
    "class spiderdataset(Dataset) :\n",
    "    def __init__(self,x_3, y, n_samples) :\n",
    "        # data loading\n",
    "        self.x3 = x_3\n",
    "        self.y = y \n",
    "        self.n_samples = n_samples\n",
    "        \n",
    "        \n",
    "    def __getitem__(self,index) :\n",
    "        return self.x3[index], self.y[index]\n",
    "\n",
    "    def __len__(self) :    \n",
    "        return self.n_samples      \n",
    "\n",
    "test_dataset = spiderdataset(input[x_test,:],output_y[x_test,:],n_samples_test)\n",
    "\n",
    "\n",
    "test_loader = DataLoader(dataset=test_dataset,\n",
    "                          batch_size=batch_size,\n",
    "                          shuffle=False,\n",
    "                          num_workers=1)"
   ]
  },
  {
   "cell_type": "code",
   "execution_count": 15,
   "metadata": {},
   "outputs": [
    {
     "data": {
      "text/plain": [
       "network(\n",
       "  (nn): Sequential(\n",
       "    (0): Linear(in_features=1398, out_features=128, bias=True)\n",
       "    (1): ReLU()\n",
       "    (2): Linear(in_features=128, out_features=32, bias=True)\n",
       "    (3): ReLU()\n",
       "    (4): Linear(in_features=32, out_features=12, bias=True)\n",
       "    (5): ReLU()\n",
       "    (6): Linear(in_features=12, out_features=8, bias=True)\n",
       "    (7): ReLU()\n",
       "    (8): Linear(in_features=8, out_features=8, bias=True)\n",
       "    (9): ReLU()\n",
       "    (10): Linear(in_features=8, out_features=8, bias=True)\n",
       "    (11): ReLU()\n",
       "    (12): Linear(in_features=8, out_features=8, bias=True)\n",
       "    (13): ReLU()\n",
       "    (14): Linear(in_features=8, out_features=1, bias=True)\n",
       "  )\n",
       ")"
      ]
     },
     "execution_count": 15,
     "metadata": {},
     "output_type": "execute_result"
    }
   ],
   "source": [
    "device = torch.device('cuda' if torch.cuda.is_available() else 'cpu')\n",
    "\n",
    "# CNN + RNN Model\n",
    "class network(nn.Module):\n",
    "    def __init__(self):\n",
    "        super(network, self).__init__()\n",
    "        \n",
    "        # nn layers\n",
    "        \n",
    "        self.nn = nn.Sequential(\n",
    "                                nn.Linear(990,128),\n",
    "                                nn.ReLU(),\n",
    "                                nn.Linear(128,32),\n",
    "                                nn.ReLU(),\n",
    "                                nn.Linear(32,12),\n",
    "                                nn.ReLU(),\n",
    "                                nn.Linear(12,8),\n",
    "                                nn.ReLU(),\n",
    "                                nn.Linear(8,8),\n",
    "                                nn.ReLU(),\n",
    "                                nn.Linear(8,8),\n",
    "                                nn.ReLU(),\n",
    "                                nn.Linear(8,8),\n",
    "                                nn.ReLU(),\n",
    "                                nn.Linear(8,1)\n",
    "                                )\n",
    "    \n",
    "\n",
    "        \n",
    "    def forward(self, x):\n",
    "        # out3 = x3\n",
    "        # out5 = x5\n",
    "        out = self.nn(x)\n",
    "\n",
    "        return out\n",
    "\n",
    "\n",
    "epoch_check = 77 ##CHANGE\n",
    "model = torch.load('./model/epoch_'+ str(epoch_check) + '.pth', map_location='cuda')\n",
    "model.eval().to(device)"
   ]
  },
  {
   "cell_type": "code",
   "execution_count": 16,
   "metadata": {},
   "outputs": [],
   "source": [
    "def weighted_loss(iter_y, iter_y_pred, s= torch.tensor(0.51), m= torch.tensor(1.18)):\n",
    "    s= s.to(device)\n",
    "    m = m.to(device)\n",
    "    inverse_weight = (1/(2.5*s))*torch.exp(-0.5*(iter_y-m)**2/s**2)\n",
    "    loss = (iter_y - iter_y_pred)*(iter_y - iter_y_pred)*(1/inverse_weight)\n",
    "    # print(loss.shape)\n",
    "    loss = torch.mean(loss)\n",
    "    # loss = loss.dtype(torch.float32)\n",
    "    return loss"
   ]
  },
  {
   "cell_type": "code",
   "execution_count": 17,
   "metadata": {},
   "outputs": [],
   "source": [
    "actual_prop = torch.zeros((n_samples_test,1)).to(device)\n",
    "predicted_prop = torch.zeros((n_samples_test,1)).to(device)\n",
    "count = 0\n",
    "with torch.no_grad():\n",
    "    valid_loss = 0.0\n",
    "    for j, (i_x,iter_y) in enumerate(test_loader):\n",
    "        # parameters = torch.reshape(parameters,(len(parameters),))\n",
    "        i_x = i_x.to(device).type(dtype=torch.float32)\n",
    "        # print(iter_y.shape) \n",
    "        iter_y = iter_y.to(device).type(dtype=torch.float32)\n",
    "\n",
    "        # forward pass    \n",
    "        iter_y_pred = model(i_x)\n",
    "        size = iter_y_pred.shape[0]\n",
    "        actual_prop[count:count+size,:] = iter_y\n",
    "        predicted_prop[count:count+size,:] = iter_y_pred\n",
    "        count += size\n",
    "actual_prop = actual_prop.to('cpu').numpy()\n",
    "predicted_prop = predicted_prop.to('cpu').numpy()\n"
   ]
  },
  {
   "cell_type": "code",
   "execution_count": 18,
   "metadata": {},
   "outputs": [
    {
     "data": {
      "image/png": "[encoded data removed]",
      "text/plain": [
       "<Figure size 640x480 with 1 Axes>"
      ]
     },
     "metadata": {},
     "output_type": "display_data"
    }
   ],
   "source": [
    "plt.scatter(actual_prop, predicted_prop)\n",
    "plt.plot(actual_prop, actual_prop)\n",
    "plt.xlabel('Actual')\n",
    "plt.ylabel('Prdicted')\n",
    "pcc = round(np.corrcoef(actual_prop.reshape((1,len(actual_prop))), predicted_prop.reshape((1,len(actual_prop))))[0,1],2)\n",
    "plt.title(f'$R^2$: {round(r2_score(actual_prop, predicted_prop),2)} , PCC: {pcc}')\n",
    "# plt.title(f'{np.corrcoef(actual_prop.reshape((1,len(actual_prop))), predicted_prop.reshape((1,len(actual_prop))))[0,1]}')\n",
    "plt.show()\n",
    "\n",
    "np.save('./p1', predicted_prop)"
   ]
  }
 ],
 "metadata": {
  "kernelspec": {
   "display_name": "torch",
   "language": "python",
   "name": "python3"
  },
  "language_info": {
   "codemirror_mode": {
    "name": "ipython",
    "version": 3
   },
   "file_extension": ".py",
   "mimetype": "text/x-python",
   "name": "python",
   "nbconvert_exporter": "python",
   "pygments_lexer": "ipython3",
   "version": "3.8.17"
  },
  "orig_nbformat": 4,
  "vscode": {
   "interpreter": {
    "hash": "98604b3b45ec6a06ff44cc545e23221fcb3349f85795d5ab7ba8ebf01f1c77b6"
   }
  }
 },
 "nbformat": 4,
 "nbformat_minor": 2
}
